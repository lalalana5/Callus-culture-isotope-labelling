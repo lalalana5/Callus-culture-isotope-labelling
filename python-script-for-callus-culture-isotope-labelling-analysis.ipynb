{
 "cells": [
  {
   "cell_type": "code",
   "execution_count": 1,
   "id": "5c059148-c761-4a92-8e95-88e808bffdcc",
   "metadata": {},
   "outputs": [],
   "source": [
    "import pandas as pd"
   ]
  },
  {
   "cell_type": "markdown",
   "id": "d92d464f-b6f1-4832-a9d7-e60dddbad045",
   "metadata": {},
   "source": [
    "### Using SIRIUS predictions for custom database for matching in mzmine \n",
    "\n"
   ]
  },
  {
   "cell_type": "code",
   "execution_count": null,
   "id": "74f6d7bb-2485-4e00-84c1-0507aa6b74de",
   "metadata": {},
   "outputs": [],
   "source": [
    "# Load annotation and quantification files\n",
    "# ⚠️ Ensure the quant file matches the batch used in SIRIUS (i.e., no isotope grouper),otherwise feature IDs will not align correctly.\n",
    "annotation_list = pd.read_csv('canopus_formula_summary.csv') \n",
    "quant_list = pd.read_csv('SIRIUS-quant-file.csv') \n"
   ]
  },
  {
   "cell_type": "code",
   "execution_count": 4,
   "id": "42969266-c49a-45fb-b401-382a807c9a31",
   "metadata": {},
   "outputs": [],
   "source": [
    "filtered_feature_list = quant_list[quant_list['id'].isin(annotation_list['id'])]\n"
   ]
  },
  {
   "cell_type": "code",
   "execution_count": null,
   "id": "aecf1ce5-afb1-429c-95ca-17139c1f671d",
   "metadata": {},
   "outputs": [],
   "source": [
    "# Merge filtered quant data with annotations using 'id'\n",
    "merged_df = pd.merge(filtered_feature_list, annotation_list, on='id')\n",
    "\n",
    "# Save merged results to CSV for downstream analysis\n",
    "merged_df.to_csv('SIRIUS-based-databse.csv', index=False)\n"
   ]
  },
  {
   "cell_type": "markdown",
   "id": "fce4c2b2-d058-424c-8c5a-ac6e85ea753b",
   "metadata": {},
   "source": [
    "#### Transform the list so it contains only rows classified as Terpenoid alkaloids within NPC_class"
   ]
  },
  {
   "cell_type": "code",
   "execution_count": 8,
   "id": "3d8540fe-83e6-4fcc-b6d3-61f233add397",
   "metadata": {},
   "outputs": [],
   "source": [
    "filtered_database='SIRIUS-based-databse.csv'\n",
    "data = pd.read_csv(filtered_database)\n"
   ]
  },
  {
   "cell_type": "code",
   "execution_count": null,
   "id": "0cd267a2-04a2-4821-85a7-60589205e0db",
   "metadata": {},
   "outputs": [],
   "source": [
    "# Filter rows where 'NPC_class' column is 'Terpenoid alkaloid'\n",
    "filtered_data = data[data['NPC_class'] == 'Terpenoid alkaloids']\n",
    "\n",
    "# Save the filtered DataFrame to a new CSV file (optional)\n",
    "filtered_file_path = 'NPC_terpenoid_alkaloids_db.csv'  # Specify the desired output file name\n",
    "filtered_data.to_csv(filtered_file_path, index=False)\n"
   ]
  },
  {
   "cell_type": "markdown",
   "id": "95769855-1646-4232-8c73-091b8a2a7b61",
   "metadata": {
    "tags": []
   },
   "source": [
    "### Celan the column names from the mzmine output files"
   ]
  },
  {
   "cell_type": "code",
   "execution_count": null,
   "id": "2edf4b1d-0256-4162-8a2b-bff98f90aee9",
   "metadata": {
    "tags": []
   },
   "outputs": [],
   "source": [
    "# Load data\n",
    "annotated_alkaloids_features = pd.read_csv('NPC_terpenoid_alkaloids_db.csv')  # Assuming columns: 'id', 'compound_name', 'rt', 'row_m-z'\n",
    "mzmine_quant= pd.read_csv('mzmine-quant-file.csv')  # Assuming columns: 'm/z', 'intensity', 'retention_time'\n"
   ]
  },
  {
   "cell_type": "code",
   "execution_count": null,
   "id": "cdf7e1c9-526e-4725-959c-7041872cd79b",
   "metadata": {},
   "outputs": [
    {
     "name": "stdout",
     "output_type": "stream",
     "text": [
      "Index(['id', 'area', 'rt', 'mz_range_min', 'mz_range_max', 'fragment_scans',\n",
      "       'alignment_scores_rate', 'alignment_scores_aligned_features_n',\n",
      "       'alignment_scores_align_extra_features',\n",
      "       'alignment_scores_weighted_distance_score',\n",
      "       ...\n",
      "       'S6_EtNH2_1uL_mzML_rt_ms2_apex_distance', 'S6_EtNH2_1uL_mzML_fwhm',\n",
      "       'S6_EtNH2_1uL_mzML_rt_range_min', 'S6_EtNH2_1uL_mzML_rt_range_max',\n",
      "       'S6_EtNH2_1uL_mzML_mz', 'S6_EtNH2_1uL_mzML_intensity_range_min',\n",
      "       'S6_EtNH2_1uL_mzML_intensity_range_max',\n",
      "       'S6_EtNH2_1uL_mzML_asymmetry_factor',\n",
      "       'S6_EtNH2_1uL_mzML_tailing_factor', 'S6_EtNH2_1uL_mzML_height'],\n",
      "      dtype='object', length=164)\n"
     ]
    }
   ],
   "source": [
    "# Function to clean column names so there wouldn't be issues in the final table, where headers can be replaced by numbers\n",
    "def clean_column_names(df):\n",
    "    df.columns = df.columns.str.replace(r\"[:.\\-\\(\\)\\[\\]\\{\\}/\\\\]\", \"_\", regex=True)  # Replace specific special characters\n",
    "    df.columns = df.columns.str.replace(r\"\\s+\", \"_\", regex=True)  # Replace spaces with underscores\n",
    "    df.columns = df.columns.str.strip()  # Remove leading/trailing spaces\n",
    "    return df\n",
    "\n",
    "# Apply the function to clean column names\n",
    "mzmine_quant= clean_column_names(mzmine_quant)\n",
    "\n",
    "# Save the cleaned CSV file\n",
    "mzmine_quant.to_csv(\"mzmine_quant_cleaned.csv\", index=False)\n"
   ]
  },
  {
   "cell_type": "code",
   "execution_count": null,
   "id": "247f6f3d-42ef-4860-8021-3b83ceabcb91",
   "metadata": {},
   "outputs": [],
   "source": [
    "df = pd.read_csv(\"mzmine_quant_cleaned.csv\")\n",
    "\n",
    "# Save headers to a text file\n",
    "with open(\"column_names.txt\", \"w\") as f:\n",
    "    for col in df.columns:\n",
    "        f.write(col + \"\\n\")"
   ]
  },
  {
   "cell_type": "code",
   "execution_count": null,
   "id": "b7f9f900-8bcd-4e3e-bff8-1e58c6a272c7",
   "metadata": {},
   "outputs": [],
   "source": [
    "### I filtered the column names for the mzmine_quant, to only keep ones of interest and create a cleaner output file\n",
    "\n",
    "# Load the column names from the text file\n",
    "with open(\"column_names.txt\", \"r\") as f:\n",
    "    selected_columns = [line.strip() for line in f.readlines()]  # Remove extra spaces/newlines\n",
    "\n",
    "# Keep only the selected columns\n",
    "filtered_df = df[selected_columns]\n",
    "\n",
    "# Save the filtered DataFrame to a new CSV\n",
    "filtered_df.to_csv(\"mzmine_quant_filtered-columns.csv\", index=False)"
   ]
  },
  {
   "cell_type": "code",
   "execution_count": null,
   "id": "e47f464e-d8ed-40d1-b998-ac311984b7ee",
   "metadata": {},
   "outputs": [],
   "source": [
    "## Do the cleaning for the database as well\n",
    "df = pd.read_csv(\"NPC_terpenoid_alkaloids_db.csv\")\n",
    "\n",
    "# Save headers to a text file\n",
    "with open(\"column_names-NPC-db.txt\", \"w\") as f:\n",
    "    for col in df.columns:\n",
    "        f.write(col + \"\\n\")"
   ]
  },
  {
   "cell_type": "code",
   "execution_count": null,
   "id": "a3f006ce-49ec-4044-ad93-695cb099621b",
   "metadata": {},
   "outputs": [],
   "source": [
    "# Load the column names from the text file\n",
    "\n",
    "df = pd.read_csv(\"NPC_terpenoid_alkaloids_db.csv\")\n",
    "\n",
    "with open(\"column_names-NPC-db.txt\", \"r\") as f:\n",
    "    selected_columns = [line.strip() for line in f.readlines()]  # Remove extra spaces/newlines\n",
    "\n",
    "# Keep only the selected columns\n",
    "filtered_df = df[selected_columns]\n",
    "\n",
    "# Save the filtered DataFrame to a new CSV\n",
    "filtered_df.to_csv(\"NPC_terpenoid_alkaloids_db_filtered-columns.csv\", index=False)"
   ]
  },
  {
   "cell_type": "markdown",
   "id": "5f930e1a-4db3-4a2c-8d3a-47dd4d4a8178",
   "metadata": {},
   "source": [
    "### Filter the NPC terpenoid alkaloids database and remove rows that arent present in at least one replicate from each group"
   ]
  },
  {
   "cell_type": "code",
   "execution_count": null,
   "id": "5a0d6b3d-8b47-43cf-a54c-97d3ac2a0344",
   "metadata": {},
   "outputs": [],
   "source": [
    "\n",
    "annotated_alkaloids_features = pd.read_csv('NPC_terpenoid_alkaloids_db_filtered-columns.csv')  # Assuming columns: 'id', 'compound_name', 'rt', 'row_m-z'\n"
   ]
  },
  {
   "cell_type": "code",
   "execution_count": null,
   "id": "054fe8c3-37ef-4242-bfcf-ff53f669fd81",
   "metadata": {},
   "outputs": [
    {
     "name": "stdout",
     "output_type": "stream",
     "text": [
      "Number of removed features: 72\n"
     ]
    }
   ],
   "source": [
    "# Define group info\n",
    "group_info = {\n",
    "    'PBS': ['S10_Ctrl_1uL.mzML:area', 'S11_CTRL_1uL.mzML:area','S12_CTRL_1uL.mzML:area'],\n",
    "    'Ethanolamine': ['S4_EtNH2_1uL.mzML:area', 'S5_EtNH2_1uL.mzML:area','S6_EtNH2_1uL.mzML:area'],\n",
    "    'Ethylamine': ['S13_EthylNH2_1uL.mzML:area', 'S14_EthylNH2_1uL.mzML:area','S15_EthylNH2_1uL.mzML:area']\n",
    "    }\n",
    "\n",
    "# Function to check if a compound has a value greater than 0 in at least one sample per group\n",
    "def is_present_in_all_groups(row, group_info):\n",
    "    for group, sample_columns in group_info.items():\n",
    "        found_in_group = False\n",
    "        for column in sample_columns:\n",
    "            if row[column] > 0:  # Check if the value in the sample column is greater than 0\n",
    "                found_in_group = True\n",
    "                break\n",
    "        if not found_in_group:\n",
    "            return False  # Compound not found in this group, return False\n",
    "    return True  # Compound found in all groups\n",
    "\n",
    "# Function to filter compounds based on presence in all groups and collect removed rows\n",
    "def filter_alkaloids(annotated_alkaloids_features, group_info):\n",
    "    filtered_alkaloids = []\n",
    "    removed_alkaloids = []  # List to store removed compounds\n",
    "    \n",
    "    for index, row in annotated_alkaloids_features.iterrows():\n",
    "        # Check if the compound is detected in at least one sample from each group\n",
    "        if is_present_in_all_groups(row, group_info):\n",
    "            filtered_alkaloids.append(row)\n",
    "        else:\n",
    "            removed_alkaloids.append(row)  # Collect removed compounds\n",
    "    \n",
    "    # Convert filtered list of alkaloids back to a DataFrame\n",
    "    filtered_df = pd.DataFrame(filtered_alkaloids)\n",
    "    removed_df = pd.DataFrame(removed_alkaloids)  # DataFrame for removed features\n",
    "    \n",
    "    return filtered_df, removed_df\n",
    "\n",
    "# Run the filtering process\n",
    "filtered_annotated_alkaloids, removed_annotated_alkaloids = filter_alkaloids(annotated_alkaloids_features, group_info)\n",
    "\n",
    "# Save or inspect the filtered result\n",
    "filtered_annotated_alkaloids.to_csv('filtered_NPC-db.csv', index=False)\n",
    "\n",
    "print(f\"Number of removed features: {len(removed_annotated_alkaloids)}\")\n"
   ]
  },
  {
   "cell_type": "markdown",
   "id": "6e357b8b-e406-44e5-9dfd-b76152ed4d16",
   "metadata": {},
   "source": [
    "#### Further filter the list based on the NPC class probability (equal or higher than 0.6)"
   ]
  },
  {
   "cell_type": "code",
   "execution_count": null,
   "id": "4b1a90e8-c59e-440a-bdcb-882c213a213a",
   "metadata": {},
   "outputs": [],
   "source": [
    "# Load the CSV file into a DataFrame\n",
    "file_path = 'filtered_NPC-db.csv'  # Replace with the path to your CSV file\n",
    "data = pd.read_csv(file_path)\n",
    "\n",
    "# Apply multiple filtering conditions\n",
    "filtered_data = data[(data['NPC_class_Probability'] >= 0.6)]      # Keep rows with 'NPC_class_probability' >= 0.6\n",
    "\n",
    "\n",
    "# Save the filtered DataFrame to a new CSV file (optional)\n",
    "filtered_file_path = 'filtered_NPC-probability-db.csv'  # Specify the desired output file name\n",
    "filtered_data.to_csv(filtered_file_path, index=False)\n",
    "\n"
   ]
  },
  {
   "cell_type": "markdown",
   "id": "3d065862-43ae-4f42-bc71-52449a9dd85f",
   "metadata": {},
   "source": [
    "### Now we have a database that should only contain features that are: \n",
    "1)found across at least one sample across each condition; This way, we make sure that we are looking into compounds that are present across all conditions and are uniform across samples; Because we can only talk about integration of certain labelled substrate into a compound if that compound is seen in all conditions, and shows only incorporation of specific isotope for one condition;\n",
    "\n",
    "2)classified based on the NPC class as Terpenoid alkaloids;\n",
    "\n",
    "3)have NPC Class probability higher or equal to 0.6\n"
   ]
  },
  {
   "cell_type": "markdown",
   "id": "e9e75fe9-f0f0-4cd9-a05f-2f22d13b26be",
   "metadata": {},
   "source": [
    "#### Add information about the label that should be seen in labelled features"
   ]
  },
  {
   "cell_type": "code",
   "execution_count": 44,
   "id": "10add105-493b-400c-9fa6-db7cabc5d3b7",
   "metadata": {},
   "outputs": [],
   "source": [
    "# Deuterium mass difference (difference between hydrogen and deuterium)\n",
    "deuterium_mass_diff = 1.00627"
   ]
  },
  {
   "cell_type": "code",
   "execution_count": 45,
   "id": "33f3650d-4b40-4bd3-81f7-6a91a3f3e28f",
   "metadata": {},
   "outputs": [],
   "source": [
    "updated_database = pd.read_csv('filtered_NPC-probability-db.csv')  # Assuming columns: 'id', 'compound_name', 'rt', 'row_m-z'\n"
   ]
  },
  {
   "cell_type": "code",
   "execution_count": 46,
   "id": "d01fbefe-2654-4603-84a0-ffbaa879cc76",
   "metadata": {},
   "outputs": [],
   "source": [
    "#Calculate modified m/z values for each alkaloid and add them as new columns\n",
    "updated_database['M+3D'] = updated_database['mz'] + 3 * deuterium_mass_diff\n",
    "updated_database['M+4D'] = updated_database['mz'] + 4 * deuterium_mass_diff\n",
    "updated_database['M+5D'] = updated_database['mz'] + 5 * deuterium_mass_diff\n",
    "\n",
    "updated_database.to_csv('updated_database.csv')"
   ]
  },
  {
   "cell_type": "code",
   "execution_count": 47,
   "id": "c547a733-0009-40c9-8930-64eaa37220f8",
   "metadata": {},
   "outputs": [],
   "source": [
    "# Function to calculate ppm difference\n",
    "def ppm_difference(mz1, mz2):\n",
    "    return abs(mz1 - mz2) / mz1 * 1e6"
   ]
  },
  {
   "cell_type": "code",
   "execution_count": 48,
   "id": "d1c5a7f4-5b10-4e4c-8f13-b52924a51a32",
   "metadata": {},
   "outputs": [
    {
     "name": "stdout",
     "output_type": "stream",
     "text": [
      "Updated CSV saved to: updated_database.csv\n"
     ]
    }
   ],
   "source": [
    "# Load the CSV file\n",
    "file_path = \"updated_database.csv\"\n",
    "df = pd.read_csv(file_path)\n",
    "\n",
    "# Add \"SIRIUS\" as a prefix to all column names\n",
    "df.columns = [\"SIRIUS_\" + col for col in df.columns]\n",
    "\n",
    "# Save the modified DataFrame back to a CSV file\n",
    "output_path = \"updated_database.csv\"\n",
    "df.to_csv(output_path, index=False)\n",
    "\n",
    "print(f\"Updated CSV saved to: {output_path}\")"
   ]
  },
  {
   "cell_type": "code",
   "execution_count": null,
   "id": "074aaa81-869f-466c-b84b-16068894f49d",
   "metadata": {},
   "outputs": [],
   "source": [
    "updated_database = pd.read_csv('updated_database.csv') \n"
   ]
  },
  {
   "cell_type": "code",
   "execution_count": null,
   "id": "1ad8d17a-e23c-4f81-9856-22540dfed02c",
   "metadata": {},
   "outputs": [],
   "source": [
    "mzmine_quant=pd.read_csv(\"mzmine_quant_filtered-columns.csv\")"
   ]
  },
  {
   "cell_type": "code",
   "execution_count": null,
   "id": "0f869138-acf8-4f7a-ab80-5527dad430fd",
   "metadata": {},
   "outputs": [],
   "source": [
    "# Function to find matches\n",
    "def find_deuterium_matches(updated_database, mzmine_quant, retention_tolerance=0.05, ppm_tolerance=5):\n",
    "    matches = []  # Collect the combined rows with all details\n",
    "    \n",
    "    for index, alkaloid in updated_database.iterrows():\n",
    "        rt = alkaloid['SIRIUS_rt']\n",
    "        original_mz = alkaloid['SIRIUS_mz']\n",
    "        alkaloid_id = alkaloid['SIRIUS_id']  \n",
    "\n",
    "        \n",
    "        # List of modified m/z columns\n",
    "        modified_mz_columns = ['SIRIUS_M+3D', 'SIRIUS_M+4D', 'SIRIUS_M+5D']\n",
    "        \n",
    "        for feature in mzmine_quant.itertuples():\n",
    "            feature_mz = feature.mz  # Access 'm/z' column\n",
    "            feature_rt = feature.rt  # Access 'rt' column\n",
    "            \n",
    "            # Check each modified m/z column\n",
    "            for mod_column in modified_mz_columns:\n",
    "                mod_mz = alkaloid[mod_column]\n",
    "                \n",
    "                if abs(rt - feature_rt) <= retention_tolerance and ppm_difference(feature_mz, mod_mz) <= ppm_tolerance:\n",
    "                    # Combine the alkaloid and feature data into a single dictionary\n",
    "                    match_data = {\n",
    "                        'Modification': mod_column,  # The type of modification\n",
    "                        'Original m/z': original_mz,\n",
    "                        'Modified m/z': mod_mz,\n",
    "                        'Feature m/z': feature_mz,\n",
    "                        'Feature RT': feature_rt,\n",
    "                        'Original SIRIUS ID' : alkaloid_id\n",
    "                    }\n",
    "                    \n",
    "                    # Add all columns from updated_database\n",
    "                    match_data.update(alkaloid.to_dict())\n",
    "                    \n",
    "                    # Add all columns from mzmine_quant\n",
    "                    match_data.update(feature._asdict())\n",
    "                    \n",
    "                    matches.append(match_data)\n",
    "    \n",
    "    # Create a DataFrame with the collected matches\n",
    "    result_df = pd.DataFrame(matches)\n",
    "    return result_df\n"
   ]
  },
  {
   "cell_type": "code",
   "execution_count": null,
   "id": "a49e49d8-433a-46d2-beed-e00341dfd7ea",
   "metadata": {},
   "outputs": [],
   "source": [
    "# Find matches\n",
    "result_df = find_deuterium_matches(updated_database, mzmine_quant)\n"
   ]
  },
  {
   "cell_type": "code",
   "execution_count": null,
   "id": "879fcf21-dd59-4d4b-be68-d90f7d4e4f6a",
   "metadata": {},
   "outputs": [],
   "source": [
    "# Final csv table with a list of terpenoid alkaloids that show deuterium incorporation\n",
    "result_df.to_csv(\"labelled-metabolites-with-clean-columns.csv\")\n"
   ]
  }
 ],
 "metadata": {
  "kernelspec": {
   "display_name": "Python 3",
   "language": "python",
   "name": "python3"
  },
  "language_info": {
   "codemirror_mode": {
    "name": "ipython",
    "version": 3
   },
   "file_extension": ".py",
   "mimetype": "text/x-python",
   "name": "python",
   "nbconvert_exporter": "python",
   "pygments_lexer": "ipython3",
   "version": "3.8.8"
  }
 },
 "nbformat": 4,
 "nbformat_minor": 5
}
